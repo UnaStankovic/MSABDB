{
 "cells": [
  {
   "cell_type": "code",
   "execution_count": 80,
   "metadata": {},
   "outputs": [],
   "source": [
    "import pyspark\n",
    "from pyspark import SparkContext\n",
    "from pyspark.sql import SQLContext \n",
    "from Bio.Seq import Seq\n",
    "import Bio.SeqIO as SeqIO\n",
    "from Bio.Alphabet import generic_dna, generic_protein"
   ]
  },
  {
   "cell_type": "code",
   "execution_count": 81,
   "metadata": {},
   "outputs": [],
   "source": [
    "#Configuring spark to use the one in Docker and creating context \n",
    "conf = conf.setMaster('spark://6e9e88e386e2:7077')\n",
    "sc = SparkContext.getOrCreate()\n"
   ]
  },
  {
   "cell_type": "code",
   "execution_count": 85,
   "metadata": {},
   "outputs": [
    {
     "name": "stdout",
     "output_type": "stream",
     "text": [
      "+--------------------+--------------------+\n",
      "|                 _c0|                 _c1|\n",
      "+--------------------+--------------------+\n",
      "|sp|Q6GZX4|001R_FRG3G|MAFSAEDVLKEYDRRRR...|\n",
      "|sp|Q6GZX3|002L_FRG3G|MSIIGATRLQNDKSDTY...|\n",
      "| sp|Q197F8|002R_IIV3|MASNTVSAQGGSNRPVR...|\n",
      "| sp|Q197F7|003L_IIV3|MYQAINPCPQSWYGSPQ...|\n",
      "|sp|Q6GZX2|003R_FRG3G|MARPLLGKTSSVRRRLE...|\n",
      "|sp|Q6GZX1|004R_FRG3G|MNAKYDTDQGVGRMLFL...|\n",
      "| sp|Q197F5|005L_IIV3|MRYTVLIALQGALLLLL...|\n",
      "|sp|Q6GZX0|005R_FRG3G|MQNPLPEVMSPEHDKRT...|\n",
      "| sp|Q91G88|006L_IIV6|MDSLNEVCYEQIKGTFY...|\n",
      "|sp|Q6GZW9|006R_FRG3G|MYKMYFLKDQKFSLSGT...|\n",
      "|sp|Q6GZW8|007R_FRG3G|MRSIKPLRCCNAHGRHV...|\n",
      "| sp|Q197F3|007R_IIV3|MEAKNITIDNTTYNFFK...|\n",
      "| sp|Q197F2|008L_IIV3|MSFKVYDPIAELIATQF...|\n",
      "|sp|Q6GZW6|009L_FRG3G|MDTSPYDFLKLYPWLSR...|\n",
      "| sp|Q91G85|009R_IIV6|MIKLFCVLAAFISINSA...|\n",
      "|sp|Q6GZW5|010R_FRG3G|MKMDTDCRHWIVLASVP...|\n",
      "| sp|Q197E9|011L_IIV3|MMESPKYKKSTCSVTNL...|\n",
      "|sp|Q6GZW4|011R_FRG3G|MTSVKTIAMLAMLVIVA...|\n",
      "|sp|Q6GZW3|012L_FRG3G|MCAKLVEMAFGPVNADS...|\n",
      "| sp|Q197E7|013L_IIV3|MYYRDQYGNVKYAPEGM...|\n",
      "+--------------------+--------------------+\n",
      "only showing top 20 rows\n",
      "\n"
     ]
    }
   ],
   "source": [
    "#Reading data \n",
    "data = sc.textFile('records_file.csv').map(lambda line: line.split(\",\"))\n",
    "\n",
    "sqlcontext = SQLContext(sc)\n",
    "\n",
    "df = sqlcontext.read.format('com.databricks.spark.csv').options(header='false').load( 'records_file.csv' )\n",
    "\n",
    "df.show()"
   ]
  },
  {
   "cell_type": "code",
   "execution_count": 83,
   "metadata": {},
   "outputs": [
    {
     "data": {
      "text/plain": [
       "DataFrame[_c0: string, _c1: string]"
      ]
     },
     "execution_count": 83,
     "metadata": {},
     "output_type": "execute_result"
    }
   ],
   "source": [
    "df.where(\"_c0 = 'sp|Q197E7|013L_IIV3'\")"
   ]
  },
  {
   "cell_type": "code",
   "execution_count": 86,
   "metadata": {},
   "outputs": [],
   "source": [
    "#Doing alignment\n",
    "from Bio import Align\n",
    "aligner = Align.PairwiseAligner()"
   ]
  },
  {
   "cell_type": "code",
   "execution_count": null,
   "metadata": {},
   "outputs": [],
   "source": []
  },
  {
   "cell_type": "code",
   "execution_count": null,
   "metadata": {},
   "outputs": [],
   "source": []
  }
 ],
 "metadata": {
  "kernelspec": {
   "display_name": "Python 3",
   "language": "python",
   "name": "python3"
  },
  "language_info": {
   "codemirror_mode": {
    "name": "ipython",
    "version": 3
   },
   "file_extension": ".py",
   "mimetype": "text/x-python",
   "name": "python",
   "nbconvert_exporter": "python",
   "pygments_lexer": "ipython3",
   "version": "3.7.7"
  }
 },
 "nbformat": 4,
 "nbformat_minor": 4
}
